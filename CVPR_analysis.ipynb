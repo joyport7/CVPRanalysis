{
 "cells": [
  {
   "cell_type": "markdown",
   "id": "53fe8db4-be71-4c8a-a043-2cc30245c5fc",
   "metadata": {
    "tags": []
   },
   "source": [
    "# Scraping"
   ]
  },
  {
   "cell_type": "markdown",
   "id": "287f14d3-ec69-4c3a-a3e0-6a161ac1e7cb",
   "metadata": {},
   "source": [
    "### Setups and configulations"
   ]
  },
  {
   "cell_type": "code",
   "execution_count": 1,
   "id": "23128b1a-8393-45f4-98a0-e98660d51045",
   "metadata": {},
   "outputs": [],
   "source": [
    "import os\n",
    "import sys\n",
    "import re\n",
    "import requests\n",
    "from bs4 import BeautifulSoup\n",
    "import bibtexparser\n",
    "import pickle\n",
    "sys.path.append('../')\n",
    "import confana as common\n",
    "#from common import *"
   ]
  },
  {
   "cell_type": "markdown",
   "id": "cbdae31b-583b-471c-8959-26effef79319",
   "metadata": {},
   "source": [
    "### Execute scraping"
   ]
  },
  {
   "cell_type": "code",
   "execution_count": null,
   "id": "296066ce-be7c-462d-9546-45fb234dc1f6",
   "metadata": {},
   "outputs": [],
   "source": [
    "# configurations\n",
    "param = common.set_param('https://openaccess.thecvf.com/', 'CVPR', 2014, 2023, 1, 1)\n",
    "\n",
    "histall = {}\n",
    "for year in range(param.yearFrom, param.yearTo, param.interval):\n",
    "    yr = str(year)\n",
    "    pklfl = 'summary' + yr\n",
    "\n",
    "    if os.path.exists(pklfl):\n",
    "        with open(pklfl,'rb') as f:\n",
    "            authorss,titles,hist,jpauthors, jptitles, numallauthors, numjpauthors, numpapers, numjppaper = pickle.load(f)\n",
    "            print(f'loading {pklfl}...')\n",
    "    else:\n",
    "        conf = param.conf_prefix + yr\n",
    "        print(conf,'...')\n",
    "        pu = common.parseUrl(param.site, conf)\n",
    "        normal, authorss, titles = pu.parseCVF()\n",
    "        if normal < 0: \n",
    "            print('parsing failed...')\n",
    "\n",
    "        pAT = common.parseATlist(titles, authorss)\n",
    "        jpauthors, jptitles, numallauthors, numjpauthors, numpapers, numjppaper = pAT.selectJP()\n",
    "        hist = pAT.makehist(jpauthors,yr)\n",
    "\n",
    "        with open(pklfl, 'wb') as f:\n",
    "            pickle.dump((authorss,titles,hist,jpauthors, jptitles, numallauthors, numjpauthors, numpapers, numjppaper), f)\n",
    "\n",
    "    print(f'\\t{numjpauthors} Japanese authors out of all {numallauthors} authors')\n",
    "    print(f'\\t{numjppaper} Japanese related papers out of all {numpapers} papers')\n",
    "    #for ii in range(0,len(jpauthors)):\n",
    "    #    print(f'{jpauthors[ii]}\\t{jptitles[ii]}')\n",
    "    pAT = common.parseATlist(titles, authorss)\n",
    "    histall = pAT.mergehist(histall,hist,yr)\n",
    "\n",
    "ph = common.parseHist(param,histall)\n",
    "ph.plotsorted()"
   ]
  },
  {
   "cell_type": "markdown",
   "id": "6bf8cee0-6a88-43f7-a65b-348f3dc88eab",
   "metadata": {},
   "source": [
    "### Analysis of trends by titles"
   ]
  },
  {
   "cell_type": "code",
   "execution_count": null,
   "id": "5b5f0967-ac88-4375-a47e-9c1b46e185a1",
   "metadata": {},
   "outputs": [],
   "source": [
    "import pickle\n",
    "import re\n",
    "\n",
    "year = 2023\n",
    "#stoplist = \"^(a|an|the|in|on|to|of|with|without|by|from|for|via|using|and|or)$\"\n",
    "#seplist = \":\\s|(^|\\s)(a|an|the|in|on|to|of|with|without|by|from|for|via|using|and|or)(\\s|$)\"\n",
    "#seplist = \"\\sa\\s|\\san\\s|\\sthe\\s|\\sin\\s|\\son\\s|\\sto\\s|\\sof\\s|\\swith\\s|\\swithout\\s|\\sby\\s|\\sfrom\\s|\\sfor\\s|\\svia\\s|\\susing\\s|\\sand\\s|\\sor\\s|:\\s|,\\s|^on\\s|^a\\s|^an\\s|^the\\s\"\n",
    "#seplist = re.compile(\"\\sa\\s|\\san\\s|\\sthe\\s|\\sin\\s|\\son\\s|\\sto\\s|\\sof\\s|\\swith\\s|\\swithout\\s|\\sby\\s|\\sfrom\\s|\\sfor\\s|\\svia\\s|\\sbeyond\\s|\\sas\\s|\\susing\\s|\\sand\\s|\\sor\\s|\\sis\\s|\\sam\\s|\\sare\\s|:\\s|,\\s|^on\\s|^a\\s|^an\\s|^the\\s\",re.IGNORECASE)\n",
    "seplist = re.compile(\":\\s|(?:\\s|^)(?:a|an|the|in|on|to|of|with|without|by|from|for|via|toward|towards|beyond|using|and|or|as|is|am|are)(?:\\s|$)\",re.IGNORECASE)\n",
    "replist = re.compile(\"^(?:a|an|the|in)\\s|\\s(?:a|an|the|in)\\s|s$|^\\s$|^in$\",re.IGNORECASE)\n",
    "\n",
    "\n",
    "with open( 'summary' + str(year) , 'rb' ) as f:\n",
    "    authorss,titles,hist,jpauthors, jptitles, numallauthors, numjpauthors, numpapers, numjppaper = pickle.load(f)\n",
    "\n",
    "wordhist = {} \n",
    "for title in titles:\n",
    "    words = seplist.split(title)\n",
    "    for item in words:\n",
    "        word = replist.sub(\"\", item)\n",
    "        #print(word)\n",
    "        if word == \"\":\n",
    "            continue\n",
    "        if word in wordhist:\n",
    "            wordhist[word] += 1\n",
    "        else:\n",
    "            wordhist[word] = 1\n",
    "\n",
    "stwordhist = sorted( wordhist.items(), key = lambda x:-x[1] )\n",
    "for item in stwordhist:\n",
    "    if item[1] > 2:\n",
    "        print(\"{0:>50}: {1:>5}\".format(item[0],item[1]))\n",
    "        #print(\"{0:}: {1:}\".format(item[0],item[1]))\n"
   ]
  },
  {
   "cell_type": "markdown",
   "id": "a06e0fd1-c648-40a0-b015-0a2561e27394",
   "metadata": {},
   "source": [
    "### NER"
   ]
  },
  {
   "cell_type": "code",
   "execution_count": null,
   "id": "da30ee7f-971e-4b05-8b44-50eafef9af69",
   "metadata": {},
   "outputs": [],
   "source": [
    "import pickle\n",
    "import re\n",
    "from rake_nltk import Rake\n",
    "\n",
    "# configulations\n",
    "year = 2014\n",
    "seplist = re.compile(\":\\s|(?:\\s|^)(?:a|an|the|in|on|to|of|with|without|by|from|for|via|toward|towards|beyond|using|and|or|as|is|am|are)(?:\\s|$)\",re.IGNORECASE)\n",
    "replist = re.compile(\"^(?:a|an|the|in)\\s|\\s(?:a|an|the|in)\\s|s$|^\\s$|^in$\",re.IGNORECASE)\n",
    "\n",
    "\n",
    "\n",
    "# Uses stopwords for english from NLTK, and all punctuation characters by default\n",
    "r = Rake()\n",
    "\n",
    "\n",
    "# loading data\n",
    "with open( 'summary' + str(year) , 'rb' ) as f:\n",
    "    authorss,titles,hist,jpauthors, jptitles, numallauthors, numjpauthors, numpapers, numjppaper = pickle.load(f)\n",
    "\n",
    "wordhist = {}\n",
    "for title in titles:\n",
    "    r.extract_keywords_from_text(title)\n",
    "    words = r.get_ranked_phrases()\n",
    "\n",
    "    for item in words:\n",
    "        #word = replist.sub(\"\", item)\n",
    "        word = item\n",
    "        if word == \"\":\n",
    "            continue\n",
    "        if word in wordhist:\n",
    "            wordhist[word] += 1\n",
    "        else:\n",
    "            wordhist[word] = 1\n",
    "\n",
    "stwordhist = sorted( wordhist.items(), key = lambda x:-x[1] )\n",
    "for item in stwordhist:\n",
    "    if item[1] > 2:\n",
    "        print(\"{0:>50}: {1:>5}\".format(item[0],item[1]))\n",
    "        #print(\"{0:}: {1:}\".format(item[0],item[1]))\n"
   ]
  },
  {
   "cell_type": "code",
   "execution_count": null,
   "id": "a11eec3c-00e1-4f0c-9806-0cd2203a4c3b",
   "metadata": {},
   "outputs": [],
   "source": [
    "import pickle\n",
    "import re\n",
    "\n",
    "for year in range(2014,2024):\n",
    "    print(\"----\")\n",
    "    print(year)\n",
    "    with open( 'summary' + str(year) , 'rb' ) as f:\n",
    "        authorss,titles,hist,jpauthors, jptitles, numallauthors, numjpauthors, numpapers, numjppaper = pickle.load(f)\n",
    "\n",
    "    numpaper = len(titles)\n",
    "    pt = common.parseTitle(titles)\n",
    "    stwordhist = pt.wordfreq()\n",
    "        \n",
    "    for item in stwordhist:\n",
    "        ratio = item[1]/numpaper\n",
    "        if ratio > 0.005:\n",
    "            #print(\"{0:}\\t{1:}\\t{2:.5f}\".format(item[0],item[1],ratio))\n",
    "            print(\"{0:}\\t{1:.5f}\".format(item[0],ratio))\n",
    "            #print(\"{0:}: {1:}\".format(item[0],item[1]))\n"
   ]
  }
 ],
 "metadata": {
  "kernelspec": {
   "display_name": "Python 3 (ipykernel)",
   "language": "python",
   "name": "python3"
  },
  "language_info": {
   "codemirror_mode": {
    "name": "ipython",
    "version": 3
   },
   "file_extension": ".py",
   "mimetype": "text/x-python",
   "name": "python",
   "nbconvert_exporter": "python",
   "pygments_lexer": "ipython3",
   "version": "3.8.11"
  }
 },
 "nbformat": 4,
 "nbformat_minor": 5
}
