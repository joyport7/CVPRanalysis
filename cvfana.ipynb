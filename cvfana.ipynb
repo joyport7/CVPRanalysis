{
 "cells": [
  {
   "cell_type": "markdown",
   "id": "53fe8db4-be71-4c8a-a043-2cc30245c5fc",
   "metadata": {
    "tags": []
   },
   "source": [
    "# Scraping"
   ]
  },
  {
   "cell_type": "markdown",
   "id": "287f14d3-ec69-4c3a-a3e0-6a161ac1e7cb",
   "metadata": {
    "tags": []
   },
   "source": [
    "### Setups and configulations"
   ]
  },
  {
   "cell_type": "code",
   "execution_count": 1,
   "id": "23128b1a-8393-45f4-98a0-e98660d51045",
   "metadata": {},
   "outputs": [],
   "source": [
    "import os\n",
    "import sys\n",
    "import re\n",
    "import requests\n",
    "from bs4 import BeautifulSoup\n",
    "import pickle\n",
    "sys.path.append('../')\n",
    "import confana\n",
    "#from common import *"
   ]
  },
  {
   "cell_type": "markdown",
   "id": "cbdae31b-583b-471c-8959-26effef79319",
   "metadata": {},
   "source": [
    "### Execute scraping (CVF website)"
   ]
  },
  {
   "cell_type": "code",
   "execution_count": 9,
   "id": "b630f197",
   "metadata": {},
   "outputs": [],
   "source": [
    "# configurations\n",
    "param = confana.set_param('https://openaccess.thecvf.com/', 'CVPR', 2014, 2025, 1, 1)"
   ]
  },
  {
   "cell_type": "code",
   "execution_count": null,
   "id": "296066ce-be7c-462d-9546-45fb234dc1f6",
   "metadata": {},
   "outputs": [],
   "source": [
    "histall = {}\n",
    "for year in range(param.yearFrom, param.yearTo, param.interval):\n",
    "    yr = str(year)\n",
    "    pklfl = param.cachedir + '/' + 'summary' + yr\n",
    "\n",
    "    if os.path.exists(pklfl):\n",
    "        with open(pklfl,'rb') as f:\n",
    "            authorss,titles,hist,jpauthors, jptitles, numallauthors, numjpauthors, numpapers, numjppaper = pickle.load(f)\n",
    "            print(f'loading {pklfl}...')\n",
    "        print(f'\\t{numjpauthors} Japanese authors out of all {numallauthors} authors')\n",
    "        print(f'\\t{numjppaper} Japanese related papers out of all {numpapers} papers')\n",
    "    else:\n",
    "        conf = param.conf_prefix + yr\n",
    "        print(conf,'...')\n",
    "        pu = confana.parseUrl(param,yr)\n",
    "        normal, authorss, titles = pu.parseCVF()\n",
    "        if normal < 0: \n",
    "            print('parsing failed...')\n",
    "\n",
    "        pAT = confana.parseATlist(titles, authorss)\n",
    "        jpauthors, jptitles, numallauthors, numjpauthors, numpapers, numjppaper = pAT.selectJP()\n",
    "        hist = pAT.makehist(jpauthors,yr)\n",
    "\n",
    "        with open(pklfl, 'wb') as f:\n",
    "            pickle.dump((authorss,titles,hist,jpauthors, jptitles, numallauthors, numjpauthors, numpapers, numjppaper), f)\n",
    "\n",
    "        print(f'\\t{numjpauthors} Japanese authors out of all {numallauthors} authors')\n",
    "        print(f'\\t{numjppaper} Japanese related papers out of all {numpapers} papers')\n",
    "    #print(jpauthors)\n",
    "    #for ii in range(0,len(jpauthors)):\n",
    "    #    print(f'{jpauthors[ii]}\\t{jptitles[ii]}')\n",
    "    pAT = confana.parseATlist(titles, authorss)\n",
    "    histall = pAT.mergehist(histall,hist,yr)\n",
    "\n",
    "ph = confana.parseHist(param,histall)\n",
    "ph.plotsorted()"
   ]
  },
  {
   "cell_type": "markdown",
   "id": "f95c9759",
   "metadata": {},
   "source": [
    "### Analysis by accepted list\n",
    "- e.g. https://cvpr.thecvf.com/Conferences/2025/AcceptedPapers"
   ]
  },
  {
   "cell_type": "markdown",
   "id": "7347d299",
   "metadata": {},
   "source": []
  },
  {
   "cell_type": "code",
   "execution_count": null,
   "id": "3b743eea",
   "metadata": {},
   "outputs": [],
   "source": [
    "# configurations\n",
    "param = confana.set_param('https://cvpr.thecvf.com/Conferences/2025/AcceptedPapers', 'CVPR', 2025, 2025, 1, 1)\n",
    "\n",
    "histall = {}\n",
    "for year in range(param.yearFrom, param.yearTo, param.interval):\n",
    "    yr = str(year)\n",
    "    pklfl = param.cachedir + '/' + 'summary' + yr\n",
    "\n",
    "    conf = param.conf_prefix + yr\n",
    "    print(conf,'...')\n",
    "    pu = confana.parseUrl(param,yr)\n",
    "    url = param.site\n",
    "    bs = pu.beautifulsoup(url)\n",
    "    cols = bs.find_all('td')\n",
    "\n",
    "    titles = []\n",
    "    authorss = []\n",
    "    print(len(cols))\n",
    "    for col in cols:\n",
    "        ccc = col.find('a')\n",
    "        if ccc is None:\n",
    "            ccc = col.find('strong')\n",
    "            if ccc is None:\n",
    "                continue\n",
    "        ttl = ccc.get_text().strip()\n",
    "        ccc = col.find('i')\n",
    "        if ccc is None: \n",
    "            pass\n",
    "        else:\n",
    "            au_line = ccc.get_text().strip()\n",
    "            authors = re.split(' · ',au_line)\n",
    "            if authors[0]:\n",
    "                titles.append(ttl)\n",
    "                authorss.append(authors)\n",
    "    \n",
    "    pAT = confana.parseATlist(titles, authorss)\n",
    "    jpauthors, jptitles, numallauthors, numjpauthors, numpapers, numjppaper = pAT.selectJP()\n",
    "    hist = pAT.makehist(jpauthors,yr)\n",
    "\n",
    "    with open(pklfl, 'wb') as f:\n",
    "        pickle.dump((authorss,titles,hist,jpauthors, jptitles, numallauthors, numjpauthors, numpapers, numjppaper), f)\n",
    "\n",
    "    print(f'\\t{numjpauthors} Japanese authors out of all {numallauthors} authors')\n",
    "    print(f'\\t{numjppaper} Japanese related papers out of all {numpapers} papers')\n",
    "    pAT = confana.parseATlist(titles, authorss)\n",
    "    histall = pAT.mergehist(histall,hist,yr)\n",
    "\n",
    "ph = confana.parseHist(param,histall)\n",
    "ph.plotsorted()"
   ]
  },
  {
   "cell_type": "markdown",
   "id": "a06e0fd1-c648-40a0-b015-0a2561e27394",
   "metadata": {},
   "source": [
    "### KW trend"
   ]
  },
  {
   "cell_type": "code",
   "execution_count": null,
   "id": "a11eec3c-00e1-4f0c-9806-0cd2203a4c3b",
   "metadata": {},
   "outputs": [],
   "source": [
    "import pickle\n",
    "import re\n",
    "\n",
    "for year in range(2014,2026,1):\n",
    "    print(\"----\")\n",
    "    print(year)\n",
    "    with open(param.cachedir + '/' +   'summary' + str(year) , 'rb' ) as f:\n",
    "        authorss,titles,hist,jpauthors, jptitles, numallauthors, numjpauthors, numpapers, numjppaper = pickle.load(f)\n",
    "\n",
    "    numpaper = len(titles)\n",
    "    pt = confana.parseTitle(titles)\n",
    "    stwordhist = pt.wordfreq()\n",
    "        \n",
    "    for item in stwordhist:\n",
    "        ratio = item[1]/numpaper\n",
    "        if ratio > 0.005:\n",
    "            #print(\"{0:}\\t{1:}\\t{2:.5f}\".format(item[0],item[1],ratio))\n",
    "            print(\"{0:}\\t{1:.5f}\".format(item[0],ratio))\n",
    "            #print(\"{0:}: {1:}\".format(item[0],item[1]))\n"
   ]
  }
 ],
 "metadata": {
  "kernelspec": {
   "display_name": "scraping",
   "language": "python",
   "name": "python3"
  },
  "language_info": {
   "codemirror_mode": {
    "name": "ipython",
    "version": 3
   },
   "file_extension": ".py",
   "mimetype": "text/x-python",
   "name": "python",
   "nbconvert_exporter": "python",
   "pygments_lexer": "ipython3",
   "version": "3.11.7"
  }
 },
 "nbformat": 4,
 "nbformat_minor": 5
}
